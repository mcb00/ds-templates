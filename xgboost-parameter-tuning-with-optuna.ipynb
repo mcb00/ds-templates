{
 "cells": [
  {
   "cell_type": "markdown",
   "metadata": {},
   "source": [
    "# XGBoost Parameter Tuning Template\n",
    "\n",
    "[https://randomrealizations.com/posts/xgboost-parameter-tuning-with-optuna/](https://randomrealizations.com/posts/xgboost-parameter-tuning-with-optuna/)"
   ]
  },
  {
   "cell_type": "code",
   "execution_count": null,
   "metadata": {},
   "outputs": [],
   "source": [
    "import time \n",
    "import numpy as np\n",
    "import pandas as pd\n",
    "import matplotlib.pyplot as plt\n",
    "from sklearn.metrics import mean_squared_error\n",
    "import xgboost as xgb\n",
    "import optuna "
   ]
  },
  {
   "cell_type": "markdown",
   "metadata": {},
   "source": [
    "## Dataset"
   ]
  },
  {
   "cell_type": "code",
   "execution_count": null,
   "metadata": {},
   "outputs": [],
   "source": [
    "from sklearn.datasets import fetch_california_housing\n",
    "\n",
    "dbunch = fetch_california_housing(as_frame=True)\n",
    "features = dbunch.feature_names \n",
    "target = dbunch.target_names[0]\n",
    "df = dbunch.frame\n",
    "\n",
    "df.info()"
   ]
  },
  {
   "cell_type": "code",
   "execution_count": null,
   "metadata": {},
   "outputs": [],
   "source": [
    "n_valid = 2000\n",
    "n_test = 2000\n",
    "\n",
    "sorted_df = df.sample(frac=1)\n",
    "train_df = sorted_df[:-(n_valid + n_test)] \n",
    "valid_df = sorted_df[-(n_valid + n_test):-n_test] \n",
    "test_df = sorted_df[-n_test:]\n",
    "\n",
    "dtrain = xgb.DMatrix(data=train_df[features], label=train_df[target], \n",
    "                     enable_categorical=True)\n",
    "dvalid = xgb.DMatrix(data=valid_df[features], label=valid_df[target], \n",
    "                     enable_categorical=True)\n",
    "dtest = xgb.DMatrix(data=test_df[features], label=test_df[target], \n",
    "                    enable_categorical=True)\n",
    "dtrainvalid = xgb.DMatrix(data=pd.concat([train_df, valid_df])[features], \n",
    "                          label=pd.concat([train_df, valid_df])[target], \n",
    "                          enable_categorical=True)"
   ]
  },
  {
   "cell_type": "markdown",
   "metadata": {},
   "source": [
    "## Preliminaries"
   ]
  },
  {
   "cell_type": "code",
   "execution_count": null,
   "metadata": {},
   "outputs": [],
   "source": [
    "metric = 'rmse'\n",
    "base_params = {\n",
    "    'objective': 'reg:squarederror',\n",
    "    'eval_metric': metric,\n",
    "}"
   ]
  },
  {
   "cell_type": "code",
   "execution_count": null,
   "metadata": {},
   "outputs": [],
   "source": [
    "def score_model(model: xgb.core.Booster, dmat: xgb.core.DMatrix) -> float:\n",
    "    y_true = dmat.get_label() \n",
    "    y_pred = model.predict(dmat) \n",
    "    return mean_squared_error(y_true, y_pred, squared=False)"
   ]
  },
  {
   "cell_type": "code",
   "execution_count": null,
   "metadata": {},
   "outputs": [],
   "source": [
    "learning_rate = 0.1\n",
    "\n",
    "params = {\n",
    "    'tree_method': 'approx',\n",
    "    'learning_rate': learning_rate\n",
    "}\n",
    "params.update(base_params)\n",
    "tic = time.time()\n",
    "model = xgb.train(params=params, dtrain=dtrain,\n",
    "                  evals=[(dtrain, 'train'), (dvalid, 'valid')],\n",
    "                  num_boost_round=10000,\n",
    "                  early_stopping_rounds=50,\n",
    "                  verbose_eval=0)\n",
    "print(f'{time.time() - tic:.1f} seconds')\n",
    "score_model(model, dvalid)"
   ]
  },
  {
   "cell_type": "markdown",
   "metadata": {},
   "source": [
    "##  Stage 1: Tune Tree Parameters with Optuna"
   ]
  },
  {
   "cell_type": "code",
   "execution_count": null,
   "metadata": {},
   "outputs": [],
   "source": [
    "def objective(trial):\n",
    "    params = {\n",
    "        'tree_method': trial.suggest_categorical('tree_method', ['approx', 'hist']),\n",
    "        'max_depth': trial.suggest_int('max_depth', 3, 12),\n",
    "        'min_child_weight': trial.suggest_int('min_child_weight', 1, 250),\n",
    "        'subsample': trial.suggest_float('subsample', 0.1, 1.0),\n",
    "        'colsample_bynode': trial.suggest_float('colsample_bynode', 0.1, 1.0),\n",
    "        'reg_lambda': trial.suggest_float('reg_lambda', 0.001, 25, log=True),\n",
    "        'learning_rate': learning_rate,\n",
    "    }\n",
    "    num_boost_round = 10000\n",
    "    params.update(base_params)\n",
    "    pruning_callback = optuna.integration.XGBoostPruningCallback(trial, f'valid-{metric}')\n",
    "    model = xgb.train(params=params, dtrain=dtrain, num_boost_round=num_boost_round,\n",
    "                      evals=[(dtrain, 'train'), (dvalid, 'valid')],\n",
    "                      early_stopping_rounds=50,\n",
    "                      verbose_eval=0,\n",
    "                      callbacks=[pruning_callback])\n",
    "    trial.set_user_attr('best_iteration', model.best_iteration)\n",
    "    return model.best_score\n"
   ]
  },
  {
   "cell_type": "code",
   "execution_count": null,
   "metadata": {},
   "outputs": [],
   "source": [
    "total_seconds = 30\n",
    "\n",
    "sampler = optuna.samplers.TPESampler(seed=42)\n",
    "study = optuna.create_study(direction='minimize', sampler=sampler)\n",
    "tic = time.time()\n",
    "while time.time() - tic < total_seconds:\n",
    "    study.optimize(objective, n_trials=1)"
   ]
  },
  {
   "cell_type": "code",
   "execution_count": null,
   "metadata": {},
   "outputs": [],
   "source": [
    "#| code-fold: true\n",
    "print('Stage 1 ==============================')\n",
    "print(f'best score = {study.best_trial.value}')\n",
    "print('boosting params ---------------------------')\n",
    "print(f'fixed learning rate: {learning_rate}')\n",
    "print(f'best boosting round: {study.best_trial.user_attrs[\"best_iteration\"]}')\n",
    "print('best tree params --------------------------')\n",
    "for k, v in study.best_trial.params.items():\n",
    "    print(k, ':', v)"
   ]
  },
  {
   "cell_type": "markdown",
   "metadata": {},
   "source": [
    "## Stage 2: Intensify the Boosting Parameters"
   ]
  },
  {
   "cell_type": "code",
   "execution_count": null,
   "metadata": {},
   "outputs": [],
   "source": [
    "low_learning_rate = 0.01\n",
    "\n",
    "params = {}\n",
    "params.update(base_params)\n",
    "params.update(study.best_trial.params)\n",
    "params['learning_rate'] = low_learning_rate\n",
    "model_stage2 = xgb.train(params=params, dtrain=dtrain, \n",
    "                         num_boost_round=10000,\n",
    "                         evals=[(dtrain, 'train'), (dvalid, 'valid')],\n",
    "                         early_stopping_rounds=50,\n",
    "                         verbose_eval=0)"
   ]
  },
  {
   "cell_type": "code",
   "execution_count": null,
   "metadata": {},
   "outputs": [],
   "source": [
    "print('Stage 2 ==============================')\n",
    "print(f'best score = {score_model(model_stage2, dvalid)}')\n",
    "print('boosting params ---------------------------')\n",
    "print(f'fixed learning rate: {params[\"learning_rate\"]}')\n",
    "print(f'best boosting round: {model_stage2.best_iteration}')"
   ]
  },
  {
   "cell_type": "markdown",
   "metadata": {},
   "source": [
    "## Train and Evaluate the Final Model"
   ]
  },
  {
   "cell_type": "code",
   "execution_count": null,
   "metadata": {},
   "outputs": [],
   "source": [
    "model_final = xgb.train(params=params, dtrain=dtrainvalid, \n",
    "                        num_boost_round=model_stage2.best_iteration,\n",
    "                        verbose_eval=0)"
   ]
  },
  {
   "cell_type": "code",
   "execution_count": null,
   "metadata": {},
   "outputs": [],
   "source": [
    "print('Final Model ==========================')\n",
    "print(f'test score = {score_model(model_final, dtest)}')\n",
    "print('parameters ---------------------------')\n",
    "for k, v in params.items():\n",
    "    print(k, ':', v)\n",
    "print(f'num_boost_round: {model_stage2.best_iteration}')"
   ]
  },
  {
   "cell_type": "code",
   "execution_count": null,
   "metadata": {},
   "outputs": [],
   "source": []
  }
 ],
 "metadata": {
  "kernelspec": {
   "display_name": "Python 3 (ipykernel)",
   "language": "python",
   "name": "python3"
  },
  "language_info": {
   "codemirror_mode": {
    "name": "ipython",
    "version": 3
   },
   "file_extension": ".py",
   "mimetype": "text/x-python",
   "name": "python",
   "nbconvert_exporter": "python",
   "pygments_lexer": "ipython3",
   "version": "3.9.13"
  }
 },
 "nbformat": 4,
 "nbformat_minor": 2
}
