{
 "cells": [
  {
   "cell_type": "markdown",
   "metadata": {},
   "source": [
    "# XGBoost Regression Template"
   ]
  },
  {
   "cell_type": "markdown",
   "metadata": {},
   "source": [
    "```.zsh\n",
    "$ conda install -c conda-forge xgboost\n",
    "```"
   ]
  },
  {
   "cell_type": "code",
   "execution_count": null,
   "metadata": {},
   "outputs": [],
   "source": [
    "import numpy as np\n",
    "import pandas as pd\n",
    "import matplotlib.pyplot as plt\n",
    "import xgboost as xgb"
   ]
  },
  {
   "cell_type": "markdown",
   "metadata": {},
   "source": [
    "## Read dataset into python"
   ]
  },
  {
   "cell_type": "code",
   "execution_count": null,
   "metadata": {},
   "outputs": [],
   "source": [
    "from sklearn.datasets import fetch_california_housing\n",
    "\n",
    "dbunch = fetch_california_housing(as_frame=True)\n",
    "features = dbunch.feature_names \n",
    "target = dbunch.target_names[0]\n",
    "df = dbunch.frame\n",
    "\n",
    "df.info()"
   ]
  },
  {
   "cell_type": "code",
   "execution_count": null,
   "metadata": {},
   "outputs": [],
   "source": [
    "from sklearn.model_selection import train_test_split \n",
    "\n",
    "n_valid = 2000 \n",
    "train_df, valid_df = train_test_split(df, test_size=n_valid, random_state=42)\n",
    "train_df.shape, valid_df.shape"
   ]
  },
  {
   "cell_type": "markdown",
   "metadata": {},
   "source": [
    "## Training"
   ]
  },
  {
   "cell_type": "markdown",
   "metadata": {},
   "source": [
    "### 'train` function`"
   ]
  },
  {
   "cell_type": "code",
   "execution_count": null,
   "metadata": {},
   "outputs": [],
   "source": [
    "# default values for important parameters\n",
    "params = {\n",
    "    'learning_rate': 0.3,\n",
    "    'max_depth': 6,\n",
    "    'min_child_weight': 1,\n",
    "    'subsample': 1,\n",
    "    'colsample_bynode': 1,\n",
    "    'objective': 'reg:squarederror',\n",
    "}\n",
    "num_boost_round = 50\n",
    "\n",
    "dtrain = xgb.DMatrix(data=train_df[features], label=train_df[target], enable_categorical=False)\n",
    "dvalid = xgb.DMatrix(data=valid_df[features], label=valid_df[target], enable_categorical=False)\n",
    "evals_result = {}\n",
    "model = xgb.train(params=params, dtrain=dtrain, num_boost_round=num_boost_round,\n",
    "                  evals=[(dtrain, 'train'), (dvalid, 'valid')],\n",
    "                  verbose_eval=10,\n",
    "                  evals_result=evals_result)"
   ]
  },
  {
   "cell_type": "code",
   "execution_count": null,
   "metadata": {},
   "outputs": [],
   "source": [
    "pd.DataFrame({\n",
    "    'train': evals_result['train']['rmse'],\n",
    "    'valid': evals_result['valid']['rmse']\n",
    "}).plot(); plt.xlabel('boosting round'); plt.ylabel('objective');"
   ]
  },
  {
   "cell_type": "markdown",
   "metadata": {},
   "source": [
    "### `XGBClassifier` wrapper"
   ]
  },
  {
   "cell_type": "code",
   "execution_count": null,
   "metadata": {},
   "outputs": [],
   "source": [
    "params = {\n",
    "    'learning_rate': 0.3,\n",
    "    'max_depth': 6,\n",
    "    'min_child_weight': 1,\n",
    "    'subsample': 1,\n",
    "    'colsample_bynode': 1,\n",
    "    'objective': 'reg:squarederror',\n",
    "}\n",
    "num_boost_round = 50\n",
    "\n",
    "reg = xgb.XGBRegressor(n_estimators=num_boost_round, **params)\n",
    "reg.fit(train_df[features], train_df[target], \n",
    "        eval_set=[(train_df[features], train_df[target]), (valid_df[features], valid_df[target])], \n",
    "        verbose=10);\n",
    "        \n",
    "# m = reg.get_booster()"
   ]
  },
  {
   "cell_type": "markdown",
   "metadata": {},
   "source": [
    "## Feature Importance"
   ]
  },
  {
   "cell_type": "code",
   "execution_count": null,
   "metadata": {},
   "outputs": [],
   "source": [
    "from sklearn.inspection import permutation_importance\n",
    "from sklearn.metrics import make_scorer\n",
    "from sklearn.metrics import mean_squared_error\n",
    "\n",
    "# make a scorer for RMSE\n",
    "scorer = make_scorer(mean_squared_error, squared=False)\n",
    "permu_imp = permutation_importance(reg, valid_df[features], valid_df[target], \n",
    "                                   n_repeats=30, random_state=0, scoring=scorer)\n",
    "\n",
    "permu_imp = pd.Series(permu_imp['importances_mean'], index=features)\n",
    "permu_imp.sort_values(ascending=False).plot.barh()\n",
    "plt.title('Permutation Importance on Out-of-Sample Set')\n",
    "plt.xlabel('change in RMSE');\n"
   ]
  },
  {
   "cell_type": "markdown",
   "metadata": {},
   "source": [
    "## Partial Dependence"
   ]
  },
  {
   "cell_type": "code",
   "execution_count": null,
   "metadata": {},
   "outputs": [],
   "source": [
    "from sklearn.inspection import PartialDependenceDisplay\n",
    "\n",
    "PartialDependenceDisplay.from_estimator(reg, \n",
    "                                        valid_df[features], \n",
    "                                        ['MedInc', ['Longitude', 'Latitude']]);"
   ]
  }
 ],
 "metadata": {
  "kernelspec": {
   "display_name": "Python 3 (ipykernel)",
   "language": "python",
   "name": "python3"
  },
  "language_info": {
   "codemirror_mode": {
    "name": "ipython",
    "version": 3
   },
   "file_extension": ".py",
   "mimetype": "text/x-python",
   "name": "python",
   "nbconvert_exporter": "python",
   "pygments_lexer": "ipython3",
   "version": "3.9.13"
  }
 },
 "nbformat": 4,
 "nbformat_minor": 2
}
